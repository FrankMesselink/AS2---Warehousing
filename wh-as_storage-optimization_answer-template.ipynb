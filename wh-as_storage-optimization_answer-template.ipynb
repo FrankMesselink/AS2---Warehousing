{
  "cells": [
    {
      "cell_type": "markdown",
      "metadata": {},
      "source": [
        "# Warehouse Storage Optimization\n",
        "\n",
        "## 1. Storage Location Assignment\n",
        "\n",
        "### Distance Matrix and Weights\n",
        "\n",
        "#### Distance Matrix"
      ]
    },
    {
      "cell_type": "code",
      "metadata": {},
      "source": [
        "# Code to calculate distance matrix"
      ],
      "execution_count": null,
      "outputs": []
    },
    {
      "cell_type": "markdown",
      "metadata": {},
      "source": [
        "*Print the distance matrix here.*\n",
        "\n",
        "\n",
        "\n",
        "#### Weights"
      ]
    },
    {
      "cell_type": "code",
      "metadata": {},
      "source": [
        "# Code to calculate weights matrix"
      ],
      "execution_count": null,
      "outputs": []
    },
    {
      "cell_type": "markdown",
      "metadata": {},
      "source": [
        "### Mathematical Model (SLAP)"
      ]
    },
    {
      "cell_type": "code",
      "metadata": {},
      "source": [
        "# MIP leading to optimal product-location assignment"
      ],
      "execution_count": null,
      "outputs": []
    },
    {
      "cell_type": "markdown",
      "metadata": {},
      "source": [
        "Example optimal assignment (illustrative only):\n",
        "\n",
        "```\n",
        "Min. travel cost: 42,420\n",
        " ╔═════════════ I/O ═════╦═══════╗\n",
        " ║   A       A       A   ║   B   ║\n",
        " ╠═══════════════╦═══════╣       ║\n",
        " ║   D       D   ║   C   ║   B   ║\n",
        "I/O              ║       ║       ║\n",
        " ║   D       D   ║   C   ║   B   ║\n",
        " ║               ╠═══════╝       ║\n",
        " ║   D       D   ║   B       B   ║\n",
        " ╚═════════════ I/O ═════════════╝\n",
        "```\n",
        "\n",
        "### 2. Random vs. Dedicated Policies\n",
        "\n",
        "The answer comprises:\n",
        "\n",
        "- Total storage for dedicated policy.\n",
        "- Total storage for random policy.\n",
        "- Reasoning behind the totals."
      ]
    }
  ],
  "metadata": {
    "kernelspec": {
      "name": "python3",
      "language": "python",
      "display_name": "Python 3 (ipykernel)",
      "path": "C:\\Users\\AlvesBeirigoB\\AppData\\Local\\Programs\\Python\\Python313\\share\\jupyter\\kernels\\python3"
    }
  },
  "nbformat": 4,
  "nbformat_minor": 4
}