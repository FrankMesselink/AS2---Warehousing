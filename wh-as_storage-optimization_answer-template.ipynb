{
  "cells": [
    {
      "cell_type": "markdown",
      "metadata": {},
      "source": [
        "# Warehouse Storage Optimization\n",
        "\n",
        "## 1. Storage Location Assignment\n",
        "\n",
        "### Distance Matrix and Weights\n",
        "\n",
        "#### Distance Matrix"
      ]
    },
    {
      "cell_type": "code",
      "execution_count": 5,
      "metadata": {},
      "outputs": [
        {
          "name": "stdout",
          "output_type": "stream",
          "text": [
            "Distance Matrix (d_kj): \n",
            "\n",
            "    1    2    3    4    5    6    7    8    9    10   11   12   13   14   15  \\\n",
            "1  5.0  4.0  4.0  5.0  4.0  3.0  3.0  4.0  3.0  2.0  2.0  3.0  2.0  1.0  1.0   \n",
            "2  2.0  3.0  4.0  5.0  1.0  2.0  3.0  4.0  1.0  2.0  3.0  4.0  2.0  3.0  4.0   \n",
            "3  2.0  1.0  1.0  2.0  3.0  2.0  2.0  3.0  4.0  3.0  3.0  4.0  5.0  4.0  4.0   \n",
            "\n",
            "    16  \n",
            "1  2.0  \n",
            "2  5.0  \n",
            "3  5.0  \n"
          ]
        }
      ],
      "source": [
        "import pandas as pd\n",
        "\n",
        "# Required storage spaces needed data S_i\n",
        "storage_spaces = {\"A\" : 3, \"B\" : 5, \"C\" : 2, \"D\" : 6}\n",
        "total_spaces = sum(storage_spaces.values())\n",
        "\n",
        "# Frequency of trips data f_ik\n",
        "frequency = {\"IO Point 1\" : {\"A\" : 150, \"B\" : 60, \"C\" : 96, \"D\" : 175},\n",
        "            \"IO Point 2\" : {\"A\" : 25, \"B\" : 200, \"C\" : 15, \"D\" : 135},\n",
        "            \"IO Point 3\" : {\"A\" : 88, \"B\" : 150, \"C\" : 85, \"D\" : 90},\n",
        "}\n",
        "frequency_df = pd.DataFrame(frequency).loc[[\"A\", \"B\", \"C\", \"D\"]]\n",
        "\n",
        "# Cost data c_ik\n",
        "cost = {\"IO Point 1\" : {\"A\" : 6, \"B\" : 7, \"C\" : 4, \"D\" : 15},\n",
        "        \"IO Point 2\" : {\"A\" : 5, \"B\" : 3, \"C\" : 7, \"D\" : 8},\n",
        "        \"IO Point 3\" : {\"A\" : 5, \"B\" : 6, \"C\" : 9, \"D\" : 12},\n",
        "}\n",
        "cost_df = pd.DataFrame(cost).loc[[\"A\", \"B\", \"C\", \"D\"]]\n",
        "\n",
        "# Define the IO points coordinates\n",
        "io_points = {1: (2.5, 0.5), 2: (0.5, 2.5), 3: (2.5, 4.5)}\n",
        "\n",
        "storage_locations = {}\n",
        "idx = 1\n",
        "for y in range(4, 0, -1):\n",
        "    for x in range(1,5):\n",
        "        storage_locations[idx] = (x, y)\n",
        "        idx += 1\n",
        "\n",
        "#print(storage_locations)\n",
        "\n",
        "def manhattan_distance(point1, point2):\n",
        "    return abs(point1[0] - point2[0]) + abs(point1[1] - point2[1])\n",
        "\n",
        "# Calculate distance matrix d_kj\n",
        "distance_matrix = pd.DataFrame(index=io_points.keys(), columns=storage_locations.keys())\n",
        "\n",
        "for k, io_coord in io_points.items():\n",
        "    for j, storage_coord in storage_locations.items():\n",
        "        distance_matrix.loc[k, j] = manhattan_distance(io_coord, storage_coord)\n",
        "\n",
        "print(\"Distance Matrix (d_kj): \\n\")\n",
        "print(distance_matrix)"
      ]
    },
    {
      "cell_type": "markdown",
      "metadata": {},
      "source": [
        "#### Weights"
      ]
    },
    {
      "cell_type": "code",
      "execution_count": null,
      "metadata": {},
      "outputs": [],
      "source": [
        "# Code to calculate weights matrix"
      ]
    },
    {
      "cell_type": "markdown",
      "metadata": {},
      "source": [
        "### Mathematical Model (SLAP)"
      ]
    },
    {
      "cell_type": "code",
      "execution_count": null,
      "metadata": {},
      "outputs": [],
      "source": [
        "# MIP leading to optimal product-location assignment"
      ]
    },
    {
      "cell_type": "markdown",
      "metadata": {},
      "source": [
        "Example optimal assignment (illustrative only):\n",
        "\n",
        "```\n",
        "Min. travel cost: 42,420\n",
        " ╔═════════════ I/O ═════╦═══════╗\n",
        " ║   A       A       A   ║   B   ║\n",
        " ╠═══════════════╦═══════╣       ║\n",
        " ║   D       D   ║   C   ║   B   ║\n",
        "I/O              ║       ║       ║\n",
        " ║   D       D   ║   C   ║   B   ║\n",
        " ║               ╠═══════╝       ║\n",
        " ║   D       D   ║   B       B   ║\n",
        " ╚═════════════ I/O ═════════════╝\n",
        "```\n",
        "\n",
        "### 2. Random vs. Dedicated Policies\n",
        "\n",
        "The answer comprises:\n",
        "\n",
        "- Total storage for dedicated policy.\n",
        "- Total storage for random policy.\n",
        "- Reasoning behind the totals."
      ]
    }
  ],
  "metadata": {
    "kernelspec": {
      "display_name": "Python 3",
      "language": "python",
      "name": "python3"
    },
    "language_info": {
      "codemirror_mode": {
        "name": "ipython",
        "version": 3
      },
      "file_extension": ".py",
      "mimetype": "text/x-python",
      "name": "python",
      "nbconvert_exporter": "python",
      "pygments_lexer": "ipython3",
      "version": "3.13.0"
    }
  },
  "nbformat": 4,
  "nbformat_minor": 4
}
